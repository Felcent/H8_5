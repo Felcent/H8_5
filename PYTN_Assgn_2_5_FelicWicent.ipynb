{
 "cells": [
  {
   "cell_type": "code",
   "execution_count": 1,
   "id": "19ef0d0b",
   "metadata": {},
   "outputs": [],
   "source": [
    "import numpy as np\n",
    "import pandas as pd\n",
    "import seaborn as sns\n",
    "import matplotlib.pyplot as plt\n",
    "import math\n",
    "import statistics as st\n",
    "from scipy.stats import norm\n",
    "from scipy.stats import gamma\n",
    "import statsmodels.api as sm"
   ]
  },
  {
   "cell_type": "markdown",
   "id": "009866fe",
   "metadata": {},
   "source": [
    "# Menyiapkan data"
   ]
  },
  {
   "cell_type": "code",
   "execution_count": 2,
   "id": "25bf0baf",
   "metadata": {},
   "outputs": [],
   "source": [
    "path = 'C:/Users/felic/OneDrive - mikroskil.ac.id/Kuliah/Semester 7 (MSIB)/Tugas/nyc-rolling-sales.csv'\n",
    "df_nyc = pd.read_csv(path)"
   ]
  },
  {
   "cell_type": "code",
   "execution_count": 3,
   "id": "c33fe90a",
   "metadata": {},
   "outputs": [
    {
     "data": {
      "text/html": [
       "<div>\n",
       "<style scoped>\n",
       "    .dataframe tbody tr th:only-of-type {\n",
       "        vertical-align: middle;\n",
       "    }\n",
       "\n",
       "    .dataframe tbody tr th {\n",
       "        vertical-align: top;\n",
       "    }\n",
       "\n",
       "    .dataframe thead th {\n",
       "        text-align: right;\n",
       "    }\n",
       "</style>\n",
       "<table border=\"1\" class=\"dataframe\">\n",
       "  <thead>\n",
       "    <tr style=\"text-align: right;\">\n",
       "      <th></th>\n",
       "      <th>Unnamed: 0</th>\n",
       "      <th>BOROUGH</th>\n",
       "      <th>NEIGHBORHOOD</th>\n",
       "      <th>BUILDING CLASS CATEGORY</th>\n",
       "      <th>TAX CLASS AT PRESENT</th>\n",
       "      <th>BLOCK</th>\n",
       "      <th>LOT</th>\n",
       "      <th>EASE-MENT</th>\n",
       "      <th>BUILDING CLASS AT PRESENT</th>\n",
       "      <th>ADDRESS</th>\n",
       "      <th>...</th>\n",
       "      <th>RESIDENTIAL UNITS</th>\n",
       "      <th>COMMERCIAL UNITS</th>\n",
       "      <th>TOTAL UNITS</th>\n",
       "      <th>LAND SQUARE FEET</th>\n",
       "      <th>GROSS SQUARE FEET</th>\n",
       "      <th>YEAR BUILT</th>\n",
       "      <th>TAX CLASS AT TIME OF SALE</th>\n",
       "      <th>BUILDING CLASS AT TIME OF SALE</th>\n",
       "      <th>SALE PRICE</th>\n",
       "      <th>SALE DATE</th>\n",
       "    </tr>\n",
       "  </thead>\n",
       "  <tbody>\n",
       "    <tr>\n",
       "      <th>0</th>\n",
       "      <td>4</td>\n",
       "      <td>1</td>\n",
       "      <td>ALPHABET CITY</td>\n",
       "      <td>07 RENTALS - WALKUP APARTMENTS</td>\n",
       "      <td>2A</td>\n",
       "      <td>392</td>\n",
       "      <td>6</td>\n",
       "      <td></td>\n",
       "      <td>C2</td>\n",
       "      <td>153 AVENUE B</td>\n",
       "      <td>...</td>\n",
       "      <td>5</td>\n",
       "      <td>0</td>\n",
       "      <td>5</td>\n",
       "      <td>1633</td>\n",
       "      <td>6440</td>\n",
       "      <td>1900</td>\n",
       "      <td>2</td>\n",
       "      <td>C2</td>\n",
       "      <td>6625000</td>\n",
       "      <td>2017-07-19 00:00:00</td>\n",
       "    </tr>\n",
       "    <tr>\n",
       "      <th>1</th>\n",
       "      <td>5</td>\n",
       "      <td>1</td>\n",
       "      <td>ALPHABET CITY</td>\n",
       "      <td>07 RENTALS - WALKUP APARTMENTS</td>\n",
       "      <td>2</td>\n",
       "      <td>399</td>\n",
       "      <td>26</td>\n",
       "      <td></td>\n",
       "      <td>C7</td>\n",
       "      <td>234 EAST 4TH   STREET</td>\n",
       "      <td>...</td>\n",
       "      <td>28</td>\n",
       "      <td>3</td>\n",
       "      <td>31</td>\n",
       "      <td>4616</td>\n",
       "      <td>18690</td>\n",
       "      <td>1900</td>\n",
       "      <td>2</td>\n",
       "      <td>C7</td>\n",
       "      <td>-</td>\n",
       "      <td>2016-12-14 00:00:00</td>\n",
       "    </tr>\n",
       "  </tbody>\n",
       "</table>\n",
       "<p>2 rows × 22 columns</p>\n",
       "</div>"
      ],
      "text/plain": [
       "   Unnamed: 0  BOROUGH   NEIGHBORHOOD  \\\n",
       "0           4        1  ALPHABET CITY   \n",
       "1           5        1  ALPHABET CITY   \n",
       "\n",
       "                       BUILDING CLASS CATEGORY TAX CLASS AT PRESENT  BLOCK  \\\n",
       "0  07 RENTALS - WALKUP APARTMENTS                                2A    392   \n",
       "1  07 RENTALS - WALKUP APARTMENTS                                 2    399   \n",
       "\n",
       "   LOT EASE-MENT BUILDING CLASS AT PRESENT                ADDRESS  ...  \\\n",
       "0    6                                  C2           153 AVENUE B  ...   \n",
       "1   26                                  C7  234 EAST 4TH   STREET  ...   \n",
       "\n",
       "  RESIDENTIAL UNITS  COMMERCIAL UNITS  TOTAL UNITS  LAND SQUARE FEET  \\\n",
       "0                 5                 0            5              1633   \n",
       "1                28                 3           31              4616   \n",
       "\n",
       "   GROSS SQUARE FEET YEAR BUILT TAX CLASS AT TIME OF SALE  \\\n",
       "0               6440       1900                         2   \n",
       "1              18690       1900                         2   \n",
       "\n",
       "   BUILDING CLASS AT TIME OF SALE  SALE PRICE            SALE DATE  \n",
       "0                              C2     6625000  2017-07-19 00:00:00  \n",
       "1                              C7         -    2016-12-14 00:00:00  \n",
       "\n",
       "[2 rows x 22 columns]"
      ]
     },
     "execution_count": 3,
     "metadata": {},
     "output_type": "execute_result"
    }
   ],
   "source": [
    "# Membuat dataset copy dari df_nyc\n",
    "dataset = df_nyc\n",
    "dataset.head(2)"
   ]
  },
  {
   "cell_type": "code",
   "execution_count": 4,
   "id": "348bb2a6",
   "metadata": {},
   "outputs": [
    {
     "name": "stdout",
     "output_type": "stream",
     "text": [
      "<class 'pandas.core.frame.DataFrame'>\n",
      "RangeIndex: 84548 entries, 0 to 84547\n",
      "Data columns (total 22 columns):\n",
      " #   Column                          Non-Null Count  Dtype \n",
      "---  ------                          --------------  ----- \n",
      " 0   Unnamed: 0                      84548 non-null  int64 \n",
      " 1   BOROUGH                         84548 non-null  int64 \n",
      " 2   NEIGHBORHOOD                    84548 non-null  object\n",
      " 3   BUILDING CLASS CATEGORY         84548 non-null  object\n",
      " 4   TAX CLASS AT PRESENT            84548 non-null  object\n",
      " 5   BLOCK                           84548 non-null  int64 \n",
      " 6   LOT                             84548 non-null  int64 \n",
      " 7   EASE-MENT                       84548 non-null  object\n",
      " 8   BUILDING CLASS AT PRESENT       84548 non-null  object\n",
      " 9   ADDRESS                         84548 non-null  object\n",
      " 10  APARTMENT NUMBER                84548 non-null  object\n",
      " 11  ZIP CODE                        84548 non-null  int64 \n",
      " 12  RESIDENTIAL UNITS               84548 non-null  int64 \n",
      " 13  COMMERCIAL UNITS                84548 non-null  int64 \n",
      " 14  TOTAL UNITS                     84548 non-null  int64 \n",
      " 15  LAND SQUARE FEET                84548 non-null  object\n",
      " 16  GROSS SQUARE FEET               84548 non-null  object\n",
      " 17  YEAR BUILT                      84548 non-null  int64 \n",
      " 18  TAX CLASS AT TIME OF SALE       84548 non-null  int64 \n",
      " 19  BUILDING CLASS AT TIME OF SALE  84548 non-null  object\n",
      " 20  SALE PRICE                      84548 non-null  object\n",
      " 21  SALE DATE                       84548 non-null  object\n",
      "dtypes: int64(10), object(12)\n",
      "memory usage: 14.2+ MB\n"
     ]
    }
   ],
   "source": [
    "dataset.info()"
   ]
  },
  {
   "cell_type": "markdown",
   "id": "9b8f074c",
   "metadata": {},
   "source": [
    "Mengubah data BOROUGH agar menjadi lebih mudah dibaca berdasarkan keterangan dari dataset."
   ]
  },
  {
   "cell_type": "code",
   "execution_count": 5,
   "id": "b0f2ba52",
   "metadata": {
    "scrolled": true
   },
   "outputs": [],
   "source": [
    "# Borough: Manhattan (1), Bronx (2), Brooklyn (3), Queens (4), and Staten Island (5).\n",
    "dataset['BOROUGH'] = dataset['BOROUGH'].astype(str)\n",
    "dataset['BOROUGH'].replace({'1':'Manhattan','2':'Bronx','3':'Brooklyn','4':'Queens','5':'Staten Island'}, inplace=True)"
   ]
  },
  {
   "cell_type": "markdown",
   "id": "4192a5ce",
   "metadata": {},
   "source": [
    "Setelah melakukan pengecekan, diketahui terdapat beberapa kolom masih memiliki beberapa data yang kotor seperti kosong, tidak sesuai tipe data seharusnya, dll."
   ]
  },
  {
   "cell_type": "code",
   "execution_count": 6,
   "id": "2b98efce",
   "metadata": {},
   "outputs": [],
   "source": [
    "#df_nyc['EASE-MENT'].unique()                   # Seluruh nilai kosong\n",
    "#df_nyc['APARTMENT NUMBER'].unique()            # Terdapat nilai kosong\n",
    "#df_nyc['SALE PRICE'].unique()                  # Terdapat nilai '-'\n",
    "#df_nyc['YEAR BUILT'].unique()                  # Terdapat nilai 0\n",
    "#df_nyc['LAND SQUARE FEET'].unique()            # Terdapat nilai 0\n",
    "#df_nyc['GROSS SQUARE FEET'].unique()           # Terdapat nilai 0\n",
    "#df_nyc['BUILDING CLASS AT PRESENT'].unique()   # Terdapat nilai kosong\n",
    "#df_nyc['TAX CLASS AT PRESENT'].unique()        # Terdapat nilai kosong"
   ]
  },
  {
   "cell_type": "markdown",
   "id": "ee687513",
   "metadata": {},
   "source": [
    "Membuang kolom-kolom yang tidak terlalu digunakan"
   ]
  },
  {
   "cell_type": "code",
   "execution_count": 7,
   "id": "f2527c58",
   "metadata": {},
   "outputs": [],
   "source": [
    "# Menghapus kolom 'EASE-MENT', 'APARTMENT NUMBER', dan 'Unnamed: 0' dari dataset\n",
    "dataset = dataset.drop(['EASE-MENT','APARTMENT NUMBER','Unnamed: 0'],axis=1)"
   ]
  },
  {
   "cell_type": "code",
   "execution_count": 8,
   "id": "fe4325fb",
   "metadata": {},
   "outputs": [],
   "source": [
    "# Mengubah nilai non-integer pada kolom 'SALE PRICE', 'LAND SQUARE FEET', 'GROSS SQUARE FEET', 'YEAR BUILT' menjadi NaN\n",
    "num_kolom = ['SALE PRICE', 'LAND SQUARE FEET', 'GROSS SQUARE FEET', 'YEAR BUILT']\n",
    "\n",
    "for col in num_kolom:\n",
    "    dataset[col] = pd.to_numeric(dataset[col], errors='coerce')"
   ]
  },
  {
   "cell_type": "code",
   "execution_count": 9,
   "id": "82ce79fe",
   "metadata": {},
   "outputs": [],
   "source": [
    "# Mengubah semua data kotor dari dataset menjadi NaN\n",
    "dataset.replace([' -  ',' '], np.nan, inplace=True)"
   ]
  },
  {
   "cell_type": "code",
   "execution_count": 10,
   "id": "579839bd",
   "metadata": {},
   "outputs": [
    {
     "data": {
      "text/plain": [
       "BOROUGH                               0\n",
       "NEIGHBORHOOD                          0\n",
       "BUILDING CLASS CATEGORY               0\n",
       "TAX CLASS AT PRESENT                738\n",
       "BLOCK                                 0\n",
       "LOT                                   0\n",
       "BUILDING CLASS AT PRESENT           738\n",
       "ADDRESS                               0\n",
       "ZIP CODE                              0\n",
       "RESIDENTIAL UNITS                     0\n",
       "COMMERCIAL UNITS                      0\n",
       "TOTAL UNITS                           0\n",
       "LAND SQUARE FEET                  26252\n",
       "GROSS SQUARE FEET                 27612\n",
       "YEAR BUILT                            0\n",
       "TAX CLASS AT TIME OF SALE             0\n",
       "BUILDING CLASS AT TIME OF SALE        0\n",
       "SALE PRICE                        14561\n",
       "SALE DATE                             0\n",
       "dtype: int64"
      ]
     },
     "execution_count": 10,
     "metadata": {},
     "output_type": "execute_result"
    }
   ],
   "source": [
    "dataset.isna().sum()"
   ]
  },
  {
   "cell_type": "code",
   "execution_count": 11,
   "id": "e2fc5287",
   "metadata": {},
   "outputs": [],
   "source": [
    "# Membuang semua baris yang NaN di kolom 'TAX CLASS AT PRESENT'\n",
    "dataset.dropna(subset = ['TAX CLASS AT PRESENT'], inplace=True)"
   ]
  },
  {
   "cell_type": "code",
   "execution_count": 12,
   "id": "26831ba7",
   "metadata": {},
   "outputs": [
    {
     "data": {
      "text/plain": [
       "765"
      ]
     },
     "execution_count": 12,
     "metadata": {},
     "output_type": "execute_result"
    }
   ],
   "source": [
    "# Mengecek apakah terdapat data duplikat pada dataset\n",
    "dataset.duplicated().sum()"
   ]
  },
  {
   "cell_type": "code",
   "execution_count": 13,
   "id": "8a2858da",
   "metadata": {},
   "outputs": [],
   "source": [
    "# Membuang semua data duplikat pada dataset\n",
    "dataset.drop_duplicates(inplace = True)"
   ]
  },
  {
   "cell_type": "code",
   "execution_count": 14,
   "id": "dfcfd6c6",
   "metadata": {},
   "outputs": [
    {
     "data": {
      "text/plain": [
       "0"
      ]
     },
     "execution_count": 14,
     "metadata": {},
     "output_type": "execute_result"
    }
   ],
   "source": [
    "# Mengecek apakah terdapat data duplikat pada dataset\n",
    "dataset.duplicated().sum()"
   ]
  },
  {
   "cell_type": "code",
   "execution_count": 15,
   "id": "7de1b6c7",
   "metadata": {},
   "outputs": [
    {
     "data": {
      "text/plain": [
       "BOROUGH                               0\n",
       "NEIGHBORHOOD                          0\n",
       "BUILDING CLASS CATEGORY               0\n",
       "TAX CLASS AT PRESENT                  0\n",
       "BLOCK                                 0\n",
       "LOT                                   0\n",
       "BUILDING CLASS AT PRESENT             0\n",
       "ADDRESS                               0\n",
       "ZIP CODE                              0\n",
       "RESIDENTIAL UNITS                     0\n",
       "COMMERCIAL UNITS                      0\n",
       "TOTAL UNITS                           0\n",
       "LAND SQUARE FEET                  25668\n",
       "GROSS SQUARE FEET                 26999\n",
       "YEAR BUILT                            0\n",
       "TAX CLASS AT TIME OF SALE             0\n",
       "BUILDING CLASS AT TIME OF SALE        0\n",
       "SALE PRICE                        14111\n",
       "SALE DATE                             0\n",
       "dtype: int64"
      ]
     },
     "execution_count": 15,
     "metadata": {},
     "output_type": "execute_result"
    }
   ],
   "source": [
    "dataset.isna().sum()"
   ]
  },
  {
   "cell_type": "code",
   "execution_count": 16,
   "id": "649cbd4f",
   "metadata": {},
   "outputs": [
    {
     "data": {
      "text/plain": [
       "BOROUGH                           0\n",
       "NEIGHBORHOOD                      0\n",
       "BUILDING CLASS CATEGORY           0\n",
       "TAX CLASS AT PRESENT              0\n",
       "BLOCK                             0\n",
       "LOT                               0\n",
       "BUILDING CLASS AT PRESENT         0\n",
       "ADDRESS                           0\n",
       "ZIP CODE                          0\n",
       "RESIDENTIAL UNITS                 0\n",
       "COMMERCIAL UNITS                  0\n",
       "TOTAL UNITS                       0\n",
       "LAND SQUARE FEET                  0\n",
       "GROSS SQUARE FEET                 0\n",
       "YEAR BUILT                        0\n",
       "TAX CLASS AT TIME OF SALE         0\n",
       "BUILDING CLASS AT TIME OF SALE    0\n",
       "SALE PRICE                        0\n",
       "SALE DATE                         0\n",
       "dtype: int64"
      ]
     },
     "execution_count": 16,
     "metadata": {},
     "output_type": "execute_result"
    }
   ],
   "source": [
    "# Membuang semua nilai NaN dari dataset\n",
    "dataset = dataset.dropna()\n",
    "dataset.isna().sum()"
   ]
  },
  {
   "cell_type": "code",
   "execution_count": 17,
   "id": "c4b04a14",
   "metadata": {},
   "outputs": [
    {
     "data": {
      "text/plain": [
       "(47544, 19)"
      ]
     },
     "execution_count": 17,
     "metadata": {},
     "output_type": "execute_result"
    }
   ],
   "source": [
    "dataset.shape"
   ]
  },
  {
   "cell_type": "markdown",
   "id": "e3e78d47",
   "metadata": {},
   "source": [
    "Berdasarkan kriteria dataset: \"Many sales occur with a nonsensically small dollar amount: $0 most commonly. These sales are actually transfers of deeds between parties: for example, parents transferring ownership to their home to a child after moving out for retirement\"\n",
    "\n",
    "Dapat diketahui bahwa rentang harga penjualan dari yang tertinggi dan terendah sangat jauh."
   ]
  },
  {
   "cell_type": "code",
   "execution_count": 18,
   "id": "fe286675",
   "metadata": {},
   "outputs": [
    {
     "data": {
      "image/png": "[encoded data removed]",
      "text/plain": [
       "<Figure size 600x400 with 1 Axes>"
      ]
     },
     "metadata": {},
     "output_type": "display_data"
    }
   ],
   "source": [
    "# Mengecek rentang harga penjualan\n",
    "plt.figure(figsize=(6,4))\n",
    "plt.scatter(range(dataset.shape[0]), np.sort(dataset['SALE PRICE'].values))\n",
    "plt.xlabel('index', fontsize=12)\n",
    "plt.ylabel('SALE PRICE', fontsize=12)\n",
    "plt.show()"
   ]
  },
  {
   "cell_type": "markdown",
   "id": "0685aa06",
   "metadata": {},
   "source": [
    "Berdasarkan plot diatas, bisa dilihat betapa besarnya rentang harga jual yang ada. \n",
    "\n",
    "Berdasarkan kriteria dataset: \"Many sales occur with a nonsensically small dollar amount: $0 most commonly. These sales are actually transfers of deeds between parties: for example, parents transferring ownership to their home to a child after moving out for retirement\"\n",
    "\n",
    "Untuk memudahkan dalam pengerjaan, berdasarkan kriteria tentang adanya SALES yang merupakan penyerahan properti dari orang tua kepada anaknya, dsb. Maka akan nilai SALE PRICE yang bernilai kecil akan diabaikan sehingga akan mengambil harga mulai dari $10.000 keatas."
   ]
  },
  {
   "cell_type": "code",
   "execution_count": 19,
   "id": "ed5c31e8",
   "metadata": {},
   "outputs": [
    {
     "data": {
      "text/plain": [
       "(36505, 19)"
      ]
     },
     "execution_count": 19,
     "metadata": {},
     "output_type": "execute_result"
    }
   ],
   "source": [
    "dataset = dataset[dataset['SALE PRICE'] > 10000].copy()\n",
    "dataset.shape"
   ]
  },
  {
   "cell_type": "code",
   "execution_count": 20,
   "id": "769673b9",
   "metadata": {},
   "outputs": [],
   "source": [
    "# Membuang baris dengan nilai 0 dari kolom 'LAND SQUARE FEET'\n",
    "dataset = dataset[dataset['LAND SQUARE FEET'] != 0]\n",
    "\n",
    "# Membuang baris dengan nilai 0 dari kolom 'GROSS SQUARE FEET'\n",
    "dataset = dataset[dataset['GROSS SQUARE FEET'] != 0]\n",
    "\n",
    "# Membuang baris dengan nilai 0 dari kolom 'TOTAL UNITS'\n",
    "dataset = dataset[dataset['TOTAL UNITS'] > 0]\n",
    "\n",
    "# Membuang baris dengan nilai 0 dari kolom 'YEAR BUILT'\n",
    "dataset = dataset[dataset['YEAR BUILT'] != 0]"
   ]
  },
  {
   "cell_type": "code",
   "execution_count": 21,
   "id": "eb2f5c27",
   "metadata": {},
   "outputs": [
    {
     "data": {
      "text/plain": [
       "(28244, 19)"
      ]
     },
     "execution_count": 21,
     "metadata": {},
     "output_type": "execute_result"
    }
   ],
   "source": [
    "dataset.shape"
   ]
  },
  {
   "cell_type": "code",
   "execution_count": 22,
   "id": "70d88cba",
   "metadata": {},
   "outputs": [
    {
     "name": "stdout",
     "output_type": "stream",
     "text": [
      "<class 'pandas.core.frame.DataFrame'>\n",
      "Index: 28244 entries, 0 to 84547\n",
      "Data columns (total 19 columns):\n",
      " #   Column                          Non-Null Count  Dtype  \n",
      "---  ------                          --------------  -----  \n",
      " 0   BOROUGH                         28244 non-null  object \n",
      " 1   NEIGHBORHOOD                    28244 non-null  object \n",
      " 2   BUILDING CLASS CATEGORY         28244 non-null  object \n",
      " 3   TAX CLASS AT PRESENT            28244 non-null  object \n",
      " 4   BLOCK                           28244 non-null  int64  \n",
      " 5   LOT                             28244 non-null  int64  \n",
      " 6   BUILDING CLASS AT PRESENT       28244 non-null  object \n",
      " 7   ADDRESS                         28244 non-null  object \n",
      " 8   ZIP CODE                        28244 non-null  int64  \n",
      " 9   RESIDENTIAL UNITS               28244 non-null  int64  \n",
      " 10  COMMERCIAL UNITS                28244 non-null  int64  \n",
      " 11  TOTAL UNITS                     28244 non-null  int64  \n",
      " 12  LAND SQUARE FEET                28244 non-null  float64\n",
      " 13  GROSS SQUARE FEET               28244 non-null  float64\n",
      " 14  YEAR BUILT                      28244 non-null  int64  \n",
      " 15  TAX CLASS AT TIME OF SALE       28244 non-null  int64  \n",
      " 16  BUILDING CLASS AT TIME OF SALE  28244 non-null  object \n",
      " 17  SALE PRICE                      28244 non-null  float64\n",
      " 18  SALE DATE                       28244 non-null  object \n",
      "dtypes: float64(3), int64(8), object(8)\n",
      "memory usage: 4.3+ MB\n"
     ]
    }
   ],
   "source": [
    "dataset.info()"
   ]
  },
  {
   "cell_type": "markdown",
   "id": "16f10f67",
   "metadata": {},
   "source": [
    "# Statistik"
   ]
  },
  {
   "cell_type": "markdown",
   "id": "e1a95e4a",
   "metadata": {},
   "source": [
    "## Mean"
   ]
  },
  {
   "cell_type": "code",
   "execution_count": 23,
   "id": "9fc967cf",
   "metadata": {},
   "outputs": [
    {
     "name": "stdout",
     "output_type": "stream",
     "text": [
      "Mean Manhattan, Bronx, Brooklyn, Queens, Staten Island:\n",
      " 20190392.0 1058055.0 1564515.0 932490.0 542075.0\n"
     ]
    },
    {
     "data": {
      "image/png": "[encoded data removed]",
      "text/plain": [
       "<Figure size 800x600 with 1 Axes>"
      ]
     },
     "metadata": {},
     "output_type": "display_data"
    }
   ],
   "source": [
    "# Menghitung mean dari harga jual tiap borough\n",
    "mean1 = dataset[dataset['BOROUGH'] == \"Manhattan\"]['SALE PRICE'].mean().round()\n",
    "mean2 = dataset[dataset['BOROUGH'] == \"Bronx\"]['SALE PRICE'].mean().round()\n",
    "mean3 = dataset[dataset['BOROUGH'] == \"Brooklyn\"]['SALE PRICE'].mean().round()\n",
    "mean4 = dataset[dataset['BOROUGH'] == \"Queens\"]['SALE PRICE'].mean().round()\n",
    "mean5 = dataset[dataset['BOROUGH'] == \"Staten Island\"]['SALE PRICE'].mean().round()\n",
    "\n",
    "print(\"Mean Manhattan, Bronx, Brooklyn, Queens, Staten Island:\\n\", mean1,mean2,mean3,mean4,mean5)\n",
    "\n",
    "# Memvisualisasikan mean harga jual tiap borough\n",
    "df_mean = dataset.groupby('BOROUGH')['SALE PRICE'].mean().reset_index()\n",
    "\n",
    "plt.figure(figsize=(8, 6))\n",
    "sns.barplot(x='BOROUGH', y='SALE PRICE', data=df_mean, palette='pastel')\n",
    "plt.title('Rata-rata Harga Jual berdasarkan Borough')\n",
    "plt.xlabel('Borough')\n",
    "plt.ylabel('Rata-rata Harga Jual')\n",
    "plt.show()"
   ]
  },
  {
   "cell_type": "markdown",
   "id": "f11f556f",
   "metadata": {},
   "source": [
    "Kesimpulan: Manhattan memiliki rata-rata harga jual tertinggi diantara borough lainnya."
   ]
  },
  {
   "cell_type": "markdown",
   "id": "ba05ab3c",
   "metadata": {},
   "source": [
    "## Median"
   ]
  },
  {
   "cell_type": "code",
   "execution_count": 24,
   "id": "539c57d2",
   "metadata": {},
   "outputs": [
    {
     "name": "stdout",
     "output_type": "stream",
     "text": [
      "Median Manhattan, Bronx, Brooklyn, Queens, Staten Island:\n",
      " 6800000.0 490000.0 881797.5 649000.0 490000.0\n"
     ]
    },
    {
     "data": {
      "image/png": "[encoded data removed]",
      "text/plain": [
       "<Figure size 800x600 with 1 Axes>"
      ]
     },
     "metadata": {},
     "output_type": "display_data"
    }
   ],
   "source": [
    "# Menghitung mean dari harga jual tiap borough\n",
    "median1 = dataset[dataset['BOROUGH'] == \"Manhattan\"]['SALE PRICE'].median()\n",
    "median2 = dataset[dataset['BOROUGH'] == \"Bronx\"]['SALE PRICE'].median()\n",
    "median3 = dataset[dataset['BOROUGH'] == \"Brooklyn\"]['SALE PRICE'].median()\n",
    "median4 = dataset[dataset['BOROUGH'] == \"Queens\"]['SALE PRICE'].median()\n",
    "median5 = dataset[dataset['BOROUGH'] == \"Staten Island\"]['SALE PRICE'].median()\n",
    "\n",
    "print(\"Median Manhattan, Bronx, Brooklyn, Queens, Staten Island:\\n\", median1,median2,median3,median4,median5)\n",
    "\n",
    "# Memvisualisasikan median harga jual tiap borough\n",
    "df_median = dataset.groupby('BOROUGH')['SALE PRICE'].median().reset_index()\n",
    "\n",
    "plt.figure(figsize=(8, 6))\n",
    "sns.barplot(x='BOROUGH', y='SALE PRICE', data=df_median, palette='pastel')\n",
    "plt.title('Median Harga Jual berdasarkan Borough')\n",
    "plt.xlabel('Borough')\n",
    "plt.ylabel('Median Harga Jual')\n",
    "plt.show()"
   ]
  },
  {
   "cell_type": "markdown",
   "id": "86517c8d",
   "metadata": {},
   "source": [
    "Kesimpulan: Manhattan memiliki nilai tengah harga jual tertinggi diantara borough lainnya."
   ]
  },
  {
   "cell_type": "markdown",
   "id": "d4b5e277",
   "metadata": {},
   "source": [
    "## Modus"
   ]
  },
  {
   "cell_type": "code",
   "execution_count": 25,
   "id": "2f12069c",
   "metadata": {},
   "outputs": [
    {
     "name": "stdout",
     "output_type": "stream",
     "text": [
      "Modus : A1\n"
     ]
    }
   ],
   "source": [
    "# Menghitung modus dari kolom \"BUILDING CLASS AT TIME OF SALE\"\n",
    "modus = dataset['BUILDING CLASS AT TIME OF SALE'].mode()\n",
    "print(\"Modus :\", modus[0])"
   ]
  },
  {
   "cell_type": "markdown",
   "id": "6216437b",
   "metadata": {},
   "source": [
    "Kesimpulan: A1 adalah kelas bangunan yang terbanyak terjual."
   ]
  },
  {
   "cell_type": "markdown",
   "id": "98cf7810",
   "metadata": {},
   "source": [
    "## Range"
   ]
  },
  {
   "cell_type": "code",
   "execution_count": 26,
   "id": "dd0dde3c",
   "metadata": {},
   "outputs": [
    {
     "name": "stdout",
     "output_type": "stream",
     "text": [
      "Range Luas Tanah per Borough:\n",
      "\t BOROUGH\n",
      "Bronx             678703.0\n",
      "Brooklyn          969600.0\n",
      "Manhattan         188641.0\n",
      "Queens           4228100.0\n",
      "Staten Island    1864943.0\n",
      "Name: LAND SQUARE FEET, dtype: float64\n"
     ]
    }
   ],
   "source": [
    "# Menghitung range dari kolom \"LAND SQUARE FEET\" untuk setiap borough\n",
    "range_borough = dataset.groupby('BOROUGH')['LAND SQUARE FEET'].agg(lambda x: x.max() - x.min())\n",
    "print(\"Range Luas Tanah per Borough:\\n\\t\", range_borough)"
   ]
  },
  {
   "cell_type": "markdown",
   "id": "80fc8c5e",
   "metadata": {},
   "source": [
    "Kesimpulan: Queens adalah borough dengan rentang luas tanah tertinggi diantara borough lainnya."
   ]
  },
  {
   "cell_type": "markdown",
   "id": "2c981f87",
   "metadata": {},
   "source": [
    "## Standard Deviation"
   ]
  },
  {
   "cell_type": "code",
   "execution_count": 27,
   "id": "e5f5f963",
   "metadata": {},
   "outputs": [
    {
     "name": "stdout",
     "output_type": "stream",
     "text": [
      "Standar Deviasi Total Unit per Borough:\n",
      "BOROUGH\n",
      "Bronx            26.252048\n",
      "Brooklyn          7.432881\n",
      "Manhattan        70.333225\n",
      "Queens           29.817678\n",
      "Staten Island     3.866204\n",
      "Name: TOTAL UNITS, dtype: float64\n"
     ]
    }
   ],
   "source": [
    "# Menghitung standar deviasi dari kolom 'TOTAL UNIT' untuk setiap borough\n",
    "std = dataset.groupby('BOROUGH')['TOTAL UNITS'].std()\n",
    "\n",
    "print(\"Standar Deviasi Total Unit per Borough:\")\n",
    "print(std)"
   ]
  },
  {
   "cell_type": "markdown",
   "id": "e832377b",
   "metadata": {},
   "source": [
    "## Variance"
   ]
  },
  {
   "cell_type": "code",
   "execution_count": 28,
   "id": "f55186b0",
   "metadata": {},
   "outputs": [
    {
     "name": "stdout",
     "output_type": "stream",
     "text": [
      "Varians Total Unit per Borough:\n",
      "BOROUGH\n",
      "Bronx             689.170034\n",
      "Brooklyn           55.247723\n",
      "Manhattan        4946.762470\n",
      "Queens            889.093915\n",
      "Staten Island      14.947531\n",
      "Name: TOTAL UNITS, dtype: float64\n"
     ]
    }
   ],
   "source": [
    "# Menghitung varians dari kolom 'TOTAL UNIT' untuk setiap borough\n",
    "var = dataset.groupby('BOROUGH')['TOTAL UNITS'].var()\n",
    "\n",
    "print(\"Varians Total Unit per Borough:\")\n",
    "print(var)"
   ]
  },
  {
   "cell_type": "markdown",
   "id": "751b073b",
   "metadata": {},
   "source": [
    "## Probability Distribution"
   ]
  },
  {
   "cell_type": "code",
   "execution_count": 29,
   "id": "ec88f262",
   "metadata": {},
   "outputs": [
    {
     "data": {
      "text/plain": [
       "<seaborn.axisgrid.FacetGrid at 0x2b50a1b8550>"
      ]
     },
     "execution_count": 29,
     "metadata": {},
     "output_type": "execute_result"
    },
    {
     "data": {
      "image/png": "[encoded data removed]",
      "text/plain": [
       "<Figure size 500x500 with 1 Axes>"
      ]
     },
     "metadata": {},
     "output_type": "display_data"
    }
   ],
   "source": [
    "# Mengambil kolom 'SALE PRICE' dari dataset\n",
    "df_price = dataset['SALE PRICE']\n",
    "\n",
    "# Menghitung Mean dan Standar Deviasi dari 'SALE PRICE'\n",
    "mean_price = df_price.mean()\n",
    "std_price = df_price.std()\n",
    "\n",
    "# Membuat distribusi normal dengan mean dan std yang telah didapat\n",
    "normal = norm.rvs(loc = mean_price, scale = std_price, size = 1000)\n",
    "\n",
    "# Memvisualisasikan distribusi normal\n",
    "ax = sns.displot(normal, bins=100, kde=True, color='skyblue', linewidth=15, alpha=1)\n",
    "\n",
    "ax.set(xlabel='Normal Distribution', ylabel='Frequency')"
   ]
  },
  {
   "cell_type": "code",
   "execution_count": 30,
   "id": "3843dca0",
   "metadata": {
    "scrolled": true
   },
   "outputs": [
    {
     "data": {
      "text/plain": [
       "<seaborn.axisgrid.FacetGrid at 0x2b50a5fe610>"
      ]
     },
     "execution_count": 30,
     "metadata": {},
     "output_type": "execute_result"
    },
    {
     "data": {
      "image/png": "[encoded data removed]",
      "text/plain": [
       "<Figure size 500x500 with 1 Axes>"
      ]
     },
     "metadata": {},
     "output_type": "display_data"
    }
   ],
   "source": [
    "# Mengidentifikasi parameter distribusi gamma\n",
    "alpha, loc, beta = gamma.fit(df_price, floc = 0)\n",
    "\n",
    "# Memvisualisasikan distribusi gamma\n",
    "gammas = gamma.rvs(alpha, loc = loc, scale = beta, size = 1000)\n",
    "\n",
    "ax = sns.displot(gammas, bins=100, kde=True, color='skyblue', linewidth=15, alpha=1)\n",
    "\n",
    "ax.set(xlabel='Gamma Distribution', ylabel='Frequency')"
   ]
  },
  {
   "cell_type": "markdown",
   "id": "e59015a4",
   "metadata": {},
   "source": [
    "Kesimpulan: Bisa dilihat bahwa hasil distribusi condong ke kiri. Hal ini artinya penjualan properti dengan harga yang rendah lebih banyak dilakukan dibandingkan properti dengan harga tinggi. "
   ]
  },
  {
   "cell_type": "markdown",
   "id": "81487584",
   "metadata": {},
   "source": [
    "## Confidence Intervals"
   ]
  },
  {
   "cell_type": "code",
   "execution_count": 31,
   "id": "e4d08acd",
   "metadata": {},
   "outputs": [
    {
     "data": {
      "text/plain": [
       "(0.7634102447071961, 0.7691156577387518)"
      ]
     },
     "execution_count": 31,
     "metadata": {},
     "output_type": "execute_result"
    }
   ],
   "source": [
    "# Menghitung proporsi populasi dari kolom \"TOTAL UNITS\"\n",
    "df_total_all = df_nyc['TOTAL UNITS']\n",
    "df_total = df_total_all[df_total_all > 0]\n",
    "\n",
    "p_total = len(df_total) / len(df_total_all)\n",
    "\n",
    "# Jumlah data\n",
    "n = len(df_total_all)\n",
    "\n",
    "# Standad error\n",
    "se_total = np.sqrt(p_total * (1- p_total) / n)\n",
    "\n",
    "# Menghitung confidence interval untuk proporsi populasi\n",
    "z_score = 1.96\n",
    "\n",
    "low = p_total - z_score * se_total # lower limit\n",
    "upp = p_total + z_score * se_total # Upper limit\n",
    "\n",
    "low, upp"
   ]
  },
  {
   "cell_type": "markdown",
   "id": "f835292d",
   "metadata": {},
   "source": [
    "## Hypothesis Testing"
   ]
  },
  {
   "cell_type": "markdown",
   "id": "61b1f574",
   "metadata": {},
   "source": [
    "Uji Hipotesis Harga Jual Rata-rata antara Borough Manhattan dan Brooklyn\n",
    "\n",
    "Hipotesis Nol (H0): Rata-rata harga jual properti di Borough Manhattan sama dengan rata-rata harga jual properti di Brooklyn.\n",
    "\n",
    "Hipotesis Alternatif (H1): Rata-rata harga jual properti di Borough Manhattan tidak sama dengan rata-rata harga jual properti di Brooklyn."
   ]
  },
  {
   "cell_type": "code",
   "execution_count": 32,
   "id": "fa707b13",
   "metadata": {},
   "outputs": [
    {
     "name": "stdout",
     "output_type": "stream",
     "text": [
      "T-Stat: 6.143823298941456\n",
      "P-Value: 1.1991611576090624e-09\n",
      "Reject H0: Rata-rata harga jual di Manhattan tidak sama dengan Brooklyn\n"
     ]
    }
   ],
   "source": [
    "from scipy import stats\n",
    "\n",
    "# Mengambil data harga untuk Borough Manhattan dan Brooklyn\n",
    "manhattan_price = dataset[dataset['BOROUGH'] == \"Manhattan\"]['SALE PRICE']\n",
    "brooklyn_price = dataset[dataset['BOROUGH'] == \"Brooklyn\"]['SALE PRICE']\n",
    "\n",
    "# Melakukan uji t-test (two-sample independent t-test)\n",
    "t_stat, p_value = stats.ttest_ind(manhattan_price, brooklyn_price, equal_var=False)\n",
    "\n",
    "# Menetapkan tingkat signifikansi (alpha)\n",
    "alpha = 0.05\n",
    "\n",
    "# Menentukan hasil uji hipotesis\n",
    "print(\"T-Stat:\", t_stat)\n",
    "print(\"P-Value:\", p_value)\n",
    "\n",
    "if p_value < alpha:\n",
    "    print(\"Reject H0: Rata-rata harga jual di Manhattan tidak sama dengan Brooklyn\")\n",
    "else:\n",
    "    print(\"Fail to reject H0: Rata-rata harga jual di Manhattan sama dengan Brooklyn\")"
   ]
  },
  {
   "cell_type": "markdown",
   "id": "4f121adf",
   "metadata": {},
   "source": [
    "# Analisis"
   ]
  },
  {
   "cell_type": "markdown",
   "id": "1bb59150",
   "metadata": {},
   "source": [
    "Kesimpulan: \n",
    "- Kebanyakan transaksi penjualan properti adalah transaksi properti dengan harga menengah kebawah.\n",
    "- Kebanyakan transaksi penjualan properti terjadi di borough Manhattan."
   ]
  },
  {
   "cell_type": "code",
   "execution_count": null,
   "id": "bf250aa3",
   "metadata": {},
   "outputs": [],
   "source": []
  }
 ],
 "metadata": {
  "kernelspec": {
   "display_name": "Python 3 (ipykernel)",
   "language": "python",
   "name": "python3"
  },
  "language_info": {
   "codemirror_mode": {
    "name": "ipython",
    "version": 3
   },
   "file_extension": ".py",
   "mimetype": "text/x-python",
   "name": "python",
   "nbconvert_exporter": "python",
   "pygments_lexer": "ipython3",
   "version": "3.11.5"
  },
  "toc": {
   "base_numbering": 1,
   "nav_menu": {},
   "number_sections": true,
   "sideBar": true,
   "skip_h1_title": false,
   "title_cell": "Table of Contents",
   "title_sidebar": "Contents",
   "toc_cell": false,
   "toc_position": {},
   "toc_section_display": true,
   "toc_window_display": false
  },
  "varInspector": {
   "cols": {
    "lenName": 16,
    "lenType": 16,
    "lenVar": 40
   },
   "kernels_config": {
    "python": {
     "delete_cmd_postfix": "",
     "delete_cmd_prefix": "del ",
     "library": "var_list.py",
     "varRefreshCmd": "print(var_dic_list())"
    },
    "r": {
     "delete_cmd_postfix": ") ",
     "delete_cmd_prefix": "rm(",
     "library": "var_list.r",
     "varRefreshCmd": "cat(var_dic_list()) "
    }
   },
   "types_to_exclude": [
    "module",
    "function",
    "builtin_function_or_method",
    "instance",
    "_Feature"
   ],
   "window_display": false
  }
 },
 "nbformat": 4,
 "nbformat_minor": 5
}
